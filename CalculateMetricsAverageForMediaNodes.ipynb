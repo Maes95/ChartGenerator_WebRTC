{
 "cells": [
  {
   "cell_type": "code",
   "execution_count": 2,
   "metadata": {},
   "outputs": [],
   "source": [
    "import pandas as pd\n",
    "import csv\n",
    "from datetime import datetime"
   ]
  },
  {
   "cell_type": "code",
   "execution_count": 25,
   "metadata": {},
   "outputs": [],
   "source": [
    "metric_files = [\n",
    "    (\"browser/5_browser_MEDIANODE_CPU_Final_perNode.csv\", \"system.cpu.total.norm.pct\"),\n",
    "    (\"browser/5_browser_MEDIANODE_Mem_Final_perNode.csv\", \"system.memory.used.pct\"),\n",
    "    (\"kms-webrtc/5_kms-webrtc_MEDIANODE_CPU_Final_perNode.csv\", \"system.cpu.total.norm.pct\"),\n",
    "    (\"kms-webrtc/5_kms-webrtc_MEDIANODE_Mem_Final_perNode.csv\", \"system.memory.used.pct\")\n",
    "]\n",
    "\n",
    "def avg(n1, n2):\n",
    "    return (float(n1[:-1]) + float(n2[:-1])) / 2.0\n",
    "\n",
    "for file_name, metric in metric_files:\n",
    "\n",
    "    path = \"Final/5_Participants_Per_Session/\"+file_name\n",
    "    nodes = {}\n",
    "    with open(path, 'r') as data:  \n",
    "        for line in csv.DictReader(data):\n",
    "            if line['agent.hostname'] not in nodes:\n",
    "                nodes[line['agent.hostname']] = []\n",
    "            nodes[line['agent.hostname']].append((line[\"@timestamp\"], line[metric]))\n",
    "    nodes_list = list(nodes.values())\n",
    "    avg_metrics = list(map(lambda i: (i[0][0], avg(i[0][1], i[1][1])),zip(nodes_list[0], nodes_list[1])))\n",
    "    out_file = path.replace(\"_perNode\", \"\")\n",
    "    with open(out_file, 'w', newline='') as fd:\n",
    "        wr = csv.writer(fd, quoting=csv.QUOTE_ALL)\n",
    "        wr.writerow((\"@timestamp\",metric))\n",
    "        for metric in avg_metrics:\n",
    "            wr.writerow((metric[0], str(metric[1])+\"%\"))"
   ]
  }
 ],
 "metadata": {
  "kernelspec": {
   "display_name": "Python 3",
   "language": "python",
   "name": "python3"
  },
  "language_info": {
   "codemirror_mode": {
    "name": "ipython",
    "version": 3
   },
   "file_extension": ".py",
   "mimetype": "text/x-python",
   "name": "python",
   "nbconvert_exporter": "python",
   "pygments_lexer": "ipython3",
   "version": "3.7.3"
  }
 },
 "nbformat": 4,
 "nbformat_minor": 2
}
