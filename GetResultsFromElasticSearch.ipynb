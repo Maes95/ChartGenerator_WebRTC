{
 "cells": [
  {
   "cell_type": "markdown",
   "id": "adult-details",
   "metadata": {},
   "source": [
    "# GetResultsFromElasticSearch"
   ]
  },
  {
   "cell_type": "code",
   "execution_count": 1,
   "id": "enhanced-beaver",
   "metadata": {},
   "outputs": [],
   "source": [
    "from elasticsearch import Elasticsearch\n",
    "from elasticsearch_dsl import Search, Q\n",
    "from datetime import datetime\n",
    "import os\n",
    "import pandas as pd\n",
    "import csv"
   ]
  },
  {
   "cell_type": "code",
   "execution_count": 2,
   "id": "suited-malpractice",
   "metadata": {},
   "outputs": [],
   "source": [
    "ELASTICSEARCH_HOST=os.getenv('ELASTICSEARCH_HOST')\n",
    "ELASTICSEARCH_USERNAME=os.getenv('ELASTICSEARCH_USERNAME')\n",
    "ELASTICSEARCH_PASSWORD=os.getenv('ELASTICSEARCH_PASSWORD')"
   ]
  },
  {
   "cell_type": "code",
   "execution_count": 3,
   "id": "unable-mountain",
   "metadata": {},
   "outputs": [
    {
     "data": {
      "text/plain": [
       "'owuus9neTe'"
      ]
     },
     "execution_count": 3,
     "metadata": {},
     "output_type": "execute_result"
    }
   ],
   "source": [
    "ELASTICSEARCH_PASSWORD"
   ]
  },
  {
   "cell_type": "code",
   "execution_count": 4,
   "id": "statutory-solomon",
   "metadata": {},
   "outputs": [],
   "source": [
    "# OPEN CONNECTION\n",
    "es = Elasticsearch([ELASTICSEARCH_HOST], http_auth=(ELASTICSEARCH_USERNAME, ELASTICSEARCH_PASSWORD))"
   ]
  },
  {
   "cell_type": "code",
   "execution_count": 5,
   "id": "brilliant-medicaid",
   "metadata": {},
   "outputs": [],
   "source": [
    "def parseElasticSearchDate(timestamp):\n",
    "    return datetime.strptime(timestamp, '%b %d, %Y @ %H:%M:%S.%f')"
   ]
  },
  {
   "cell_type": "markdown",
   "id": "complete-origin",
   "metadata": {},
   "source": [
    "## Preliminar"
   ]
  },
  {
   "cell_type": "code",
   "execution_count": 6,
   "id": "ranking-failure",
   "metadata": {},
   "outputs": [],
   "source": [
    "def getMetrics(metric,start, finish):\n",
    "    search = Search(using=es, index=\"metricbeat-*\") \\\n",
    "        .filter('range' ,  **{'@timestamp': {'gte': start , 'lt': finish, 'time_zone': '+02:00' }}) \\\n",
    "        .filter('term', **{'fields.node_role': 'browseremulator'}) \\\n",
    "        .filter('term', **{'metricset.name': metric})\n",
    "    total = search.count()\n",
    "    return search[0:total].execute()"
   ]
  },
  {
   "cell_type": "code",
   "execution_count": 7,
   "id": "sudden-albania",
   "metadata": {},
   "outputs": [],
   "source": [
    "def getJoinedTimestamps(start, finish):\n",
    "    search = Search(using=es, index=\"openvidu\") \\\n",
    "        .filter('range' ,  **{'timestamp': {'gte': start , 'lt': finish, 'time_zone': '+02:00', 'format': 'strict_date_optional_time' }}) \\\n",
    "        .query(Q('match', event=\"participantJoined\"))\n",
    "    total = search.count()\n",
    "    return search[0:total].execute()"
   ]
  },
  {
   "cell_type": "code",
   "execution_count": 8,
   "id": "strategic-police",
   "metadata": {},
   "outputs": [],
   "source": [
    "def saveResults(results, strategy, participants, filename):\n",
    "    filepath = \"Preliminar/{numP}_Participants_Per_Session/{strategy}/{numP}_{strategy}_{filename}.csv\".format(\n",
    "        strategy=strategy,\n",
    "        numP=participants,\n",
    "        filename=filename\n",
    "    )\n",
    "    with open(filepath,\"w\", newline=\"\") as f:\n",
    "        writer = csv.writer(f)\n",
    "        writer.writerows(results)"
   ]
  },
  {
   "cell_type": "code",
   "execution_count": 25,
   "id": "behavioral-cricket",
   "metadata": {},
   "outputs": [
    {
     "name": "stdout",
     "output_type": "stream",
     "text": [
      "kms-webrtc\n",
      "kms-webrtc\n",
      "kms-webrtc\n",
      "kms-webrtc\n",
      "SeleniumWithoutRecording\n",
      "SeleniumWithoutRecording\n",
      "SeleniumWithoutRecording\n",
      "SeleniumWithoutRecording\n",
      "SeleniumWithRecording\n",
      "SeleniumWithRecording\n",
      "SeleniumWithRecording\n",
      "SeleniumWithRecording\n",
      "headless browsers\n",
      "headless browsers\n",
      "headless browsers\n",
      "headless browsers\n"
     ]
    }
   ],
   "source": [
    "df = pd.read_csv('Preliminar/strategies.csv', sep=\"\\t\")\n",
    "for index, row in df.iterrows():\n",
    "    print(row['strategy'])\n",
    "    \n",
    "    start = parseElasticSearchDate(row['start'])\n",
    "    finish = parseElasticSearchDate(row['finish'])\n",
    "    \n",
    "    # CPU\n",
    "    cpu_results_raw = getMetrics(\"cpu\", start, finish)\n",
    "    cpu_results = [['@timestamp','system.cpu.total.norm.pct']]\n",
    "    for hit in cpu_results_raw :\n",
    "        cpu = hit['system']['cpu']['total']['norm']['pct'] * 100\n",
    "        timestamp = datetime.strptime(hit['@timestamp'], '%Y-%m-%dT%H:%M:%S.%fZ')\n",
    "        cpu_results.append([timestamp, cpu])\n",
    "    saveResults(cpu_results, row['strategy'], row['participants'], \"CPU\")\n",
    "        \n",
    "    # MEM\n",
    "    mem_results_raw = getMetrics(\"memory\", start, finish)\n",
    "    mem_results = [['@timestamp','system.memory.used.pct']]\n",
    "    for hit in mem_results_raw:\n",
    "        mem = hit['system']['memory']['used']['pct'] * 100\n",
    "        timestamp = datetime.strptime(hit['@timestamp'], '%Y-%m-%dT%H:%M:%S.%fZ')\n",
    "        mem_results.append([timestamp, mem])\n",
    "    saveResults(mem_results, row['strategy'], row['participants'], \"Mem\")\n",
    "    \n",
    "    # JOINED \n",
    "    joined_results_raw = getJoinedTimestamps(start, finish)\n",
    "    joined_results = [['timestamp','event']]\n",
    "    for hit in joined_results_raw:\n",
    "        timestamp = datetime.fromtimestamp(hit['timestamp']/1000.0)\n",
    "        joined_results.append([timestamp, hit['event']])\n",
    "    saveResults(joined_results, row['strategy'], row['participants'], \"Joined\")"
   ]
  },
  {
   "cell_type": "code",
   "execution_count": 23,
   "id": "excessive-refund",
   "metadata": {},
   "outputs": [
    {
     "data": {
      "text/plain": [
       "datetime.datetime(2021, 9, 30, 16, 46, 22, 264000)"
      ]
     },
     "execution_count": 23,
     "metadata": {},
     "output_type": "execute_result"
    }
   ],
   "source": [
    "datetime.strptime(hit_cpu['@timestamp'], '%Y-%m-%dT%H:%M:%S.%fZ')"
   ]
  }
 ],
 "metadata": {
  "kernelspec": {
   "display_name": "Python 3",
   "language": "python",
   "name": "python3"
  },
  "language_info": {
   "codemirror_mode": {
    "name": "ipython",
    "version": 3
   },
   "file_extension": ".py",
   "mimetype": "text/x-python",
   "name": "python",
   "nbconvert_exporter": "python",
   "pygments_lexer": "ipython3",
   "version": "3.8.8"
  }
 },
 "nbformat": 4,
 "nbformat_minor": 5
}
